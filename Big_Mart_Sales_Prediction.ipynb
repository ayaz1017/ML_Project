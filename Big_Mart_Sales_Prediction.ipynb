{
  "nbformat": 4,
  "nbformat_minor": 0,
  "metadata": {
    "colab": {
      "private_outputs": true,
      "provenance": []
    },
    "kernelspec": {
      "name": "python3",
      "display_name": "Python 3"
    },
    "language_info": {
      "name": "python"
    }
  },
  "cells": [
    {
      "cell_type": "markdown",
      "source": [],
      "metadata": {
        "id": "gV7IJL3PzYOj"
      }
    },
    {
      "cell_type": "code",
      "source": [
        "#datasetlink\n",
        "path = kagglehub.dataset_download(\"brijbhushannanda1979/bigmart-sales-data\")\n",
        "\n",
        "print(\"Path to dataset files:\", path)"
      ],
      "metadata": {
        "id": "foPqJ0e3zYtg"
      },
      "execution_count": null,
      "outputs": []
    },
    {
      "cell_type": "code",
      "execution_count": null,
      "metadata": {
        "id": "oDQzLefvjdhv"
      },
      "outputs": [],
      "source": [
        "import numpy as np\n",
        "import pandas as pd\n",
        "import matplotlib.pyplot as plt\n",
        "import seaborn as sns\n",
        "from sklearn.preprocessing import LabelEncoder\n",
        "from sklearn.model_selection import train_test_split\n",
        "from xgboost import XGBRegressor\n",
        "from sklearn.linear_model import LinearRegression\n",
        "from sklearn.ensemble import RandomForestRegressor\n",
        "from sklearn.tree import DecisionTreeRegressor\n",
        "from sklearn.metrics import classification_report\n",
        "from sklearn import metrics"
      ]
    },
    {
      "cell_type": "code",
      "source": [
        "import pandas as pd\n",
        "df=pd.read_csv('Train.csv')"
      ],
      "metadata": {
        "id": "sPQRhnOHkn9s"
      },
      "execution_count": null,
      "outputs": []
    },
    {
      "cell_type": "code",
      "source": [
        "df.head()"
      ],
      "metadata": {
        "id": "CfvnmszFk6XU"
      },
      "execution_count": null,
      "outputs": []
    },
    {
      "cell_type": "code",
      "source": [
        "df.info()"
      ],
      "metadata": {
        "id": "3Ly5elNtlnB_"
      },
      "execution_count": null,
      "outputs": []
    },
    {
      "cell_type": "code",
      "source": [
        "df.describe()"
      ],
      "metadata": {
        "id": "zUTfMBZ3lGa4"
      },
      "execution_count": null,
      "outputs": []
    },
    {
      "cell_type": "code",
      "source": [
        "df.shape"
      ],
      "metadata": {
        "id": "43_0idIXlJh2"
      },
      "execution_count": null,
      "outputs": []
    },
    {
      "cell_type": "markdown",
      "source": [
        "all identify the categorial columns"
      ],
      "metadata": {
        "id": "Wt7h0pS5lrqC"
      }
    },
    {
      "cell_type": "code",
      "source": [
        "df.isnull().sum()\n",
        "\n",
        "#items and outlet are missing values"
      ],
      "metadata": {
        "id": "qEaTxtLUlOBZ"
      },
      "execution_count": null,
      "outputs": []
    },
    {
      "cell_type": "markdown",
      "source": [
        "handling the missing values"
      ],
      "metadata": {
        "id": "BHKY31KWmx_h"
      }
    },
    {
      "cell_type": "code",
      "source": [
        "df['Item_Weight'].mean()"
      ],
      "metadata": {
        "id": "L2PTsswsmxiK"
      },
      "execution_count": null,
      "outputs": []
    },
    {
      "cell_type": "markdown",
      "source": [],
      "metadata": {
        "id": "6Uigm6RNnAIF"
      }
    },
    {
      "cell_type": "code",
      "source": [
        "df['Item_Weight'].fillna(df['Item_Weight'].mean(), inplace=True)"
      ],
      "metadata": {
        "id": "gDdQJ5WAn06m"
      },
      "execution_count": null,
      "outputs": []
    },
    {
      "cell_type": "code",
      "source": [
        "df['Outlet_Size'].mode()"
      ],
      "metadata": {
        "id": "-A-gHda-n7lE"
      },
      "execution_count": null,
      "outputs": []
    },
    {
      "cell_type": "code",
      "source": [
        "mode = df.pivot_table(values='Outlet_Size', columns='Outlet_Type', aggfunc=(lambda x: x.mode()[0]))"
      ],
      "metadata": {
        "id": "nMp3hMosoGeH"
      },
      "execution_count": null,
      "outputs": []
    },
    {
      "cell_type": "code",
      "source": [
        "miss_values=df['Outlet_Size'].isnull()"
      ],
      "metadata": {
        "id": "mntnOyBIoW9H"
      },
      "execution_count": null,
      "outputs": []
    },
    {
      "cell_type": "code",
      "source": [
        "miss_values"
      ],
      "metadata": {
        "id": "O2P_0Kghogyq"
      },
      "execution_count": null,
      "outputs": []
    },
    {
      "cell_type": "code",
      "source": [
        "df.loc[miss_values, 'Outlet_Size']=df.loc[miss_values,'Outlet_Type'].apply(lambda x: mode[x])"
      ],
      "metadata": {
        "id": "ldOw-JpJoj7x"
      },
      "execution_count": null,
      "outputs": []
    },
    {
      "cell_type": "code",
      "source": [
        "df.isnull().sum()"
      ],
      "metadata": {
        "id": "VEbCsgPOo4G4"
      },
      "execution_count": null,
      "outputs": []
    },
    {
      "cell_type": "code",
      "source": [
        "plt.figure(figsize=(4,4))\n",
        "sns.distplot(df['Item_Weight'])\n",
        "plt.show()"
      ],
      "metadata": {
        "id": "hDRSPRlyo8f9"
      },
      "execution_count": null,
      "outputs": []
    },
    {
      "cell_type": "code",
      "source": [
        "plt.figure(figsize=(4,4))\n",
        "sns.distplot(df['Item_Visibility'])\n",
        "plt.show()"
      ],
      "metadata": {
        "id": "gMdbsuQupr81"
      },
      "execution_count": null,
      "outputs": []
    },
    {
      "cell_type": "code",
      "source": [
        "plt.figure(figsize=(4,4))\n",
        "sns.distplot(df['Item_MRP'])\n",
        "plt.show()"
      ],
      "metadata": {
        "id": "AY5auyEOpww6"
      },
      "execution_count": null,
      "outputs": []
    },
    {
      "cell_type": "code",
      "source": [
        "plt.figure(figsize=(4,4))\n",
        "sns.countplot(x='Item_Fat_Content',data=df)\n",
        "plt.show()"
      ],
      "metadata": {
        "id": "wpUbZL8Yp6_v"
      },
      "execution_count": null,
      "outputs": []
    },
    {
      "cell_type": "code",
      "source": [
        "plt.figure(figsize=(20,4))\n",
        "sns.countplot(x='Item_Type',data=df)\n",
        "plt.show()"
      ],
      "metadata": {
        "id": "63ROaeHDqju6"
      },
      "execution_count": null,
      "outputs": []
    },
    {
      "cell_type": "code",
      "source": [
        "df.head()"
      ],
      "metadata": {
        "id": "5UDuVFXIq4I0"
      },
      "execution_count": null,
      "outputs": []
    },
    {
      "cell_type": "code",
      "source": [
        "df['Item_Fat_Content'].value_counts"
      ],
      "metadata": {
        "id": "sS_NmJKYrPTZ"
      },
      "execution_count": null,
      "outputs": []
    },
    {
      "cell_type": "code",
      "source": [
        "df.replace({'Item_Fat_Content': {'low fat':'Low Fat','LF':'Low Fat', 'reg':'Regular'}}, inplace=True)"
      ],
      "metadata": {
        "id": "NHGZOlohsCzh"
      },
      "execution_count": null,
      "outputs": []
    },
    {
      "cell_type": "code",
      "source": [
        "df['Item_Type'].value_counts"
      ],
      "metadata": {
        "id": "JCNu_26drdZr"
      },
      "execution_count": null,
      "outputs": []
    },
    {
      "cell_type": "code",
      "source": [
        "encoder=LabelEncoder()"
      ],
      "metadata": {
        "id": "MWsPsjkxsVE-"
      },
      "execution_count": null,
      "outputs": []
    },
    {
      "cell_type": "code",
      "source": [
        "df['Item_Fat_Content']=encoder.fit_transform(df['Item_Fat_Content'])\n",
        "df['Item_Identifier']=encoder.fit_transform(df['Item_Identifier'])\n",
        "df['Item_Type']=encoder.fit_transform(df['Item_Type'])\n",
        "df['Outlet_Identifier']=encoder.fit_transform(df['Outlet_Identifier'])\n",
        "df['Outlet_Size']=encoder.fit_transform(df['Outlet_Size'])\n",
        "df['Outlet_Type']=encoder.fit_transform(df['Outlet_Type'])\n",
        "df['Outlet_Location_Type']=encoder.fit_transform(df['Outlet_Location_Type'])"
      ],
      "metadata": {
        "id": "v0kmqx9ysgju"
      },
      "execution_count": null,
      "outputs": []
    },
    {
      "cell_type": "code",
      "source": [
        "df.head()"
      ],
      "metadata": {
        "id": "FkPfDswKtrBf"
      },
      "execution_count": null,
      "outputs": []
    },
    {
      "cell_type": "code",
      "source": [
        "X =df.drop(columns='Item_Outlet_Sales', axis=1)\n",
        "Y = df['Item_Outlet_Sales']"
      ],
      "metadata": {
        "id": "AtEqk8Zqty4c"
      },
      "execution_count": null,
      "outputs": []
    },
    {
      "cell_type": "code",
      "source": [
        "# Corrected train_test_split assignment\n",
        "X_train, X_test, Y_train, Y_test = train_test_split(X, Y, test_size=0.2, random_state=2)"
      ],
      "metadata": {
        "id": "RusInP2quYNk"
      },
      "execution_count": null,
      "outputs": []
    },
    {
      "cell_type": "code",
      "source": [
        "print(X.shape,Y.shape)"
      ],
      "metadata": {
        "id": "J5NcsbEKv1Ud"
      },
      "execution_count": null,
      "outputs": []
    },
    {
      "cell_type": "code",
      "source": [
        "print(X_train.shape,Y_train.shape)"
      ],
      "metadata": {
        "id": "3BDAbBIKv6LV"
      },
      "execution_count": null,
      "outputs": []
    },
    {
      "cell_type": "code",
      "source": [
        "LR=LinearRegression()\n",
        "RF=RandomForestRegressor()\n",
        "DT=DecisionTreeRegressor()\n",
        "XBG=XGBRegressor()"
      ],
      "metadata": {
        "id": "wdtiuDK4vkhk"
      },
      "execution_count": null,
      "outputs": []
    },
    {
      "cell_type": "code",
      "source": [
        "LR.fit(X_train,Y_train)\n",
        "RF.fit(X_train,Y_train)\n",
        "DT.fit(X_train,Y_train)\n",
        "XBG.fit(X_train,Y_train)"
      ],
      "metadata": {
        "collapsed": true,
        "id": "LH0xlZT-vzej"
      },
      "execution_count": null,
      "outputs": []
    },
    {
      "cell_type": "code",
      "source": [
        "#prediction on training data\n",
        "training_data_pred_LR=LR.predict(X_train)\n",
        "training_data_pred_RF=RF.predict(X_train)\n",
        "training_data_pred_DT=DT.predict(X_train)\n",
        "training_data_pred_XBG=XBG.predict(X_train)"
      ],
      "metadata": {
        "id": "dNiH6nZMw8qQ"
      },
      "execution_count": null,
      "outputs": []
    },
    {
      "cell_type": "code",
      "source": [
        "r2_lr=metrics.r2_score(training_data_pred_LR,Y_train)\n",
        "r2_rf=metrics.r2_score(training_data_pred_RF,Y_train)\n",
        "r2_dt=metrics.r2_score(training_data_pred_DT,Y_train)\n",
        "r2_xgb=metrics.r2_score(training_data_pred_XBG,Y_train)"
      ],
      "metadata": {
        "id": "C9FCZe-5wlET"
      },
      "execution_count": null,
      "outputs": []
    },
    {
      "cell_type": "code",
      "source": [
        "print('R Squared value = ', r2_lr)\n",
        "print('R Squared value = ', r2_rf)\n",
        "print('R Squared value = ', r2_dt)\n",
        "print('R Squared value = ', r2_xgb)"
      ],
      "metadata": {
        "id": "Cvv9Cihbx2Jd"
      },
      "execution_count": null,
      "outputs": []
    },
    {
      "cell_type": "code",
      "source": [
        "#prediction on test data\n",
        "test_data_pred_LR=LR.predict(X_train)\n",
        "test_data_pred_RF=RF.predict(X_train)\n",
        "test_data_pred_DT=DT.predict(X_train)\n",
        "test_data_pred_XBG=XBG.predict(X_train)"
      ],
      "metadata": {
        "id": "CNJzIZwGySDv"
      },
      "execution_count": null,
      "outputs": []
    },
    {
      "cell_type": "code",
      "source": [
        "r2_lr=metrics.r2_score(test_data_pred_LR,Y_train)\n",
        "r2_rf=metrics.r2_score(test_data_pred_RF,Y_train)\n",
        "r2_dt=metrics.r2_score(test_data_pred_DT,Y_train)\n",
        "r2_xgb=metrics.r2_score(test_data_pred_XBG,Y_train)"
      ],
      "metadata": {
        "id": "N5XVq9wsyb39"
      },
      "execution_count": null,
      "outputs": []
    },
    {
      "cell_type": "code",
      "source": [
        "print('R Squared value = ', r2_lr)\n",
        "print('R Squared value = ', r2_rf)\n",
        "print('R Squared value = ', r2_dt)\n",
        "print('R Squared value = ', r2_xgb)"
      ],
      "metadata": {
        "id": "xKB-GRq4ykSK"
      },
      "execution_count": null,
      "outputs": []
    }
  ]
}