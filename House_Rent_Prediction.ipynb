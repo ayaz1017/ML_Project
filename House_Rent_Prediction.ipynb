{
  "nbformat": 4,
  "nbformat_minor": 0,
  "metadata": {
    "colab": {
      "private_outputs": true,
      "provenance": []
    },
    "kernelspec": {
      "name": "python3",
      "display_name": "Python 3"
    },
    "language_info": {
      "name": "python"
    }
  },
  "cells": [
    {
      "cell_type": "code",
      "execution_count": null,
      "metadata": {
        "id": "dCqf2nkez3ML"
      },
      "outputs": [],
      "source": [
        "import numpy as np\n",
        "import pandas as pd\n",
        "import seaborn as sns\n",
        "import matplotlib.pyplot as plt"
      ]
    },
    {
      "cell_type": "code",
      "source": [
        "df=pd.read_csv('house_dataset.csv')"
      ],
      "metadata": {
        "id": "mNIeQEQO8B1l"
      },
      "execution_count": null,
      "outputs": []
    },
    {
      "cell_type": "code",
      "source": [
        "df.head()"
      ],
      "metadata": {
        "id": "Vhy3l3AL8ScU"
      },
      "execution_count": null,
      "outputs": []
    },
    {
      "cell_type": "code",
      "source": [
        "df.tail(5)"
      ],
      "metadata": {
        "id": "2Mv_sxQZ8WgQ"
      },
      "execution_count": null,
      "outputs": []
    },
    {
      "cell_type": "code",
      "source": [
        "df.shape"
      ],
      "metadata": {
        "id": "i53UlMEz8bO9"
      },
      "execution_count": null,
      "outputs": []
    },
    {
      "cell_type": "code",
      "source": [
        "df.describe"
      ],
      "metadata": {
        "id": "g7qNTNab8yhS"
      },
      "execution_count": null,
      "outputs": []
    },
    {
      "cell_type": "code",
      "source": [
        "df.abs"
      ],
      "metadata": {
        "id": "Kib3cWCn9Dmx"
      },
      "execution_count": null,
      "outputs": []
    },
    {
      "cell_type": "code",
      "source": [
        "df.isnull().sum()\n"
      ],
      "metadata": {
        "id": "mNTEU8Zx9Ju_"
      },
      "execution_count": null,
      "outputs": []
    },
    {
      "cell_type": "code",
      "source": [
        "replace_map = {\n",
        "    'Furnishing Status': {'Unfurnished': 0, 'Semi-Furnished': 1, 'Furnished': 2},\n",
        "    'Tenant Preferred': {'Bachelors': 0, 'Family': 1, 'Bachelors/Family': 2},\n",
        "    'Area Type': {'Carpet Area': 0, 'Built Area': 1, 'Super Area': 2},\n",
        "    'Point of Contact': {'Contact Owner': 0, 'Contact Agent': 1, 'Contact Builder': 2}\n",
        "}"
      ],
      "metadata": {
        "id": "f8RT1SA29oV5"
      },
      "execution_count": null,
      "outputs": []
    },
    {
      "cell_type": "code",
      "source": [
        "df['Posted On'] = pd.to_datetime(df['Posted On'])\n",
        "df['Posted_Year'] = df['Posted On'].dt.year\n",
        "df['Posted_Month'] = df['Posted On'].dt.month\n",
        "df['Posted_Day'] = df['Posted On'].dt.day\n",
        "df = df.drop('Posted On', axis=1)"
      ],
      "metadata": {
        "id": "iJergaBaDVyH"
      },
      "execution_count": null,
      "outputs": []
    },
    {
      "cell_type": "code",
      "source": [
        "from sklearn.preprocessing import LabelEncoder\n",
        "for column in X.select_dtypes(include=['object']).columns:\n",
        "    le = LabelEncoder()\n",
        "    X[column] = le.fit_transform(X[column])"
      ],
      "metadata": {
        "id": "NfncbRCKDul-"
      },
      "execution_count": null,
      "outputs": []
    },
    {
      "cell_type": "code",
      "source": [
        "df.replace(replace_map, inplace=True)"
      ],
      "metadata": {
        "id": "glD3znkO9wHw"
      },
      "execution_count": null,
      "outputs": []
    },
    {
      "cell_type": "code",
      "source": [
        "df.head()"
      ],
      "metadata": {
        "id": "q_OLLIJm9ywa"
      },
      "execution_count": null,
      "outputs": []
    },
    {
      "cell_type": "code",
      "source": [
        "sns.countplot(x='Furnishing Status',hue='Rent',data=df)"
      ],
      "metadata": {
        "id": "92HPe7Q8-sEy"
      },
      "execution_count": null,
      "outputs": []
    },
    {
      "cell_type": "code",
      "source": [
        "sns.countplot(x='Tenant Preferred',hue='Rent',data=df)"
      ],
      "metadata": {
        "id": "wBofIk3S-2rq"
      },
      "execution_count": null,
      "outputs": []
    },
    {
      "cell_type": "code",
      "source": [
        "X = df.drop('Rent', axis=1)\n",
        "Y = df['Rent']\n"
      ],
      "metadata": {
        "id": "_SgfddgC_v3b"
      },
      "execution_count": null,
      "outputs": []
    },
    {
      "cell_type": "code",
      "source": [
        "from sklearn.model_selection import train_test_split\n",
        "X_train, X_test, Y_train, Y_test = train_test_split(X, Y, test_size=0.2, random_state=2)"
      ],
      "metadata": {
        "id": "EKpRlYNPBC3f"
      },
      "execution_count": null,
      "outputs": []
    },
    {
      "cell_type": "code",
      "source": [
        "from sklearn.linear_model import LogisticRegression\n",
        "from sklearn.ensemble import RandomForestRegressor\n",
        "from sklearn.metrics import mean_absolute_error,r2_score,accuracy_score"
      ],
      "metadata": {
        "id": "0iEJy-uwBqr9"
      },
      "execution_count": null,
      "outputs": []
    },
    {
      "cell_type": "code",
      "source": [
        "LR=LogisticRegression()\n",
        "RFR=RandomForestRegressor()"
      ],
      "metadata": {
        "id": "IK8fEBt_CTxI"
      },
      "execution_count": null,
      "outputs": []
    },
    {
      "cell_type": "code",
      "source": [
        "LR.fit(X_train,Y_train)\n",
        "RFR.fit(X_train,Y_train)"
      ],
      "metadata": {
        "id": "EJmnk793C1DJ"
      },
      "execution_count": null,
      "outputs": []
    },
    {
      "cell_type": "code",
      "source": [
        "Y_pred1=LR.predict(X_test)\n",
        "Y_pred2=RFR.predict(X_test)"
      ],
      "metadata": {
        "id": "-1DnnSK2DPi5"
      },
      "execution_count": null,
      "outputs": []
    },
    {
      "cell_type": "code",
      "source": [
        "accuracy_score(Y_test,Y_pred1)\n",
        "mean_absolute_error(Y_test,Y_pred1)\n",
        "r2_score(Y_test,Y_pred1)"
      ],
      "metadata": {
        "id": "cGgK6xzqGF5m"
      },
      "execution_count": null,
      "outputs": []
    },
    {
      "cell_type": "code",
      "source": [
        "mean_absolute_error(Y_test,Y_pred2)\n",
        "r2_score(Y_test,Y_pred2)"
      ],
      "metadata": {
        "id": "mPYCqME7HayJ"
      },
      "execution_count": null,
      "outputs": []
    },
    {
      "cell_type": "code",
      "source": [
        "print(f'MAE: {mean_absolute_error(Y_test, Y_pred1)}')\n",
        "print(f'R2: {r2_score(Y_test, Y_pred1)}')"
      ],
      "metadata": {
        "id": "WOVa3kLaGX-D"
      },
      "execution_count": null,
      "outputs": []
    },
    {
      "cell_type": "code",
      "source": [
        "print(f'MAE: {mean_absolute_error(Y_test, Y_pred2)}')\n",
        "print(f'R2: {r2_score(Y_test, Y_pred2)}')"
      ],
      "metadata": {
        "id": "Bhn-xP__HSG5"
      },
      "execution_count": null,
      "outputs": []
    }
  ]
}