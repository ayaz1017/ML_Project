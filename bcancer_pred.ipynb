{
  "nbformat": 4,
  "nbformat_minor": 0,
  "metadata": {
    "colab": {
      "private_outputs": true,
      "provenance": []
    },
    "kernelspec": {
      "name": "python3",
      "display_name": "Python 3"
    },
    "language_info": {
      "name": "python"
    }
  },
  "cells": [
    {
      "cell_type": "code",
      "execution_count": null,
      "metadata": {
        "id": "mdqYqzgSuezA"
      },
      "outputs": [],
      "source": [
        "import numpy as np\n",
        "import pandas as pd\n",
        "import matplotlib.pyplot as plt\n",
        "import seaborn as sns\n",
        "import warnings\n",
        "from sklearn.model_selection import train_test_split\n",
        "from sklearn.preprocessing import MinMaxScaler, LabelEncoder\n",
        "from sklearn.linear_model import LinearRegression\n",
        "from sklearn.svm import SVR\n",
        "from sklearn.metrics import mean_squared_error\n",
        "warnings.filterwarnings('ignore')"
      ]
    },
    {
      "cell_type": "code",
      "source": [
        "df = pd.read_csv('Breast_Cancer.csv')\n",
        "print(df.head())\n",
        "print(df.info())"
      ],
      "metadata": {
        "id": "HV7jsw7iu52b"
      },
      "execution_count": null,
      "outputs": []
    },
    {
      "cell_type": "code",
      "source": [
        "print('Dataset Shape:', df.shape)\n",
        "print(df.describe().T)\n",
        "\n",
        "print('Missing Values:', df.isnull().sum())"
      ],
      "metadata": {
        "id": "mrNtobP89CnL"
      },
      "execution_count": null,
      "outputs": []
    },
    {
      "cell_type": "code",
      "source": [
        "categorical_columns = df.select_dtypes(include=['object']).columns\n",
        "for col in categorical_columns:\n",
        "    if col != 'Status':\n",
        "        le = LabelEncoder()\n",
        "        df[col] = le.fit_transform(df[col])\n",
        "\n",
        "print(df.head())"
      ],
      "metadata": {
        "id": "wL14WRd6vDxZ"
      },
      "execution_count": null,
      "outputs": []
    },
    {
      "cell_type": "code",
      "source": [
        "plt.figure(figsize=(12, 8))\n",
        "sns.heatmap(df.drop(columns=['Status']).corr(), annot=True, cmap='coolwarm')\n",
        "plt.title('Correlation Heatmap')\n",
        "plt.show()"
      ],
      "metadata": {
        "id": "YyIkKbJEvQsW"
      },
      "execution_count": null,
      "outputs": []
    },
    {
      "cell_type": "code",
      "source": [
        "selected_columns = ['Age', 'Marital Status', 'Grade', 'Survival Months', 'Status']\n",
        "df = df[selected_columns]\n",
        "le = LabelEncoder()\n",
        "df['Marital Status'] = le.fit_transform(df['Marital Status'])\n",
        "df['Grade'] = le.fit_transform(df['Grade'])\n",
        "df['Status'] = le.fit_transform(df['Status'])\n",
        "X = df[['Age', 'Marital Status', 'Grade', 'Survival Months']]\n",
        "y = df['Status']\n"
      ],
      "metadata": {
        "id": "WXSpWfU-9wdO"
      },
      "execution_count": null,
      "outputs": []
    },
    {
      "cell_type": "code",
      "source": [
        "scaler = MinMaxScaler()\n",
        "X_scaled = scaler.fit_transform(X)"
      ],
      "metadata": {
        "id": "4BXw5CW2wRCr"
      },
      "execution_count": null,
      "outputs": []
    },
    {
      "cell_type": "code",
      "source": [
        "X_train, X_test, y_train, y_test = train_test_split(X_scaled, y, test_size=0.2, random_state=42)"
      ],
      "metadata": {
        "id": "slMdXS3XyFwI"
      },
      "execution_count": null,
      "outputs": []
    },
    {
      "cell_type": "code",
      "source": [
        "from sklearn.neighbors import KNeighborsClassifier\n",
        "from sklearn.metrics import accuracy_score\n",
        "import pandas as pd\n",
        "import matplotlib.pyplot as plt\n",
        "from sklearn import metrics\n",
        "\n",
        "\n",
        "X_axis = list(range(1, 11))\n",
        "acc = [] # Initialize acc as a list\n",
        "x = range(1,11)\n",
        "\n",
        "for i in list(range(1, 11)):\n",
        "    knn_model = KNeighborsClassifier(n_neighbors = i)\n",
        "    knn_model.fit(X_train, y_train)\n",
        "    prediction = knn_model.predict(X_test)\n",
        "    acc.append(metrics.accuracy_score(prediction, y_test))\n",
        "\n",
        "\n",
        "acc = pd.Series(acc, index=X_axis)\n",
        "\n",
        "plt.plot(X_axis, acc)\n",
        "plt.xticks(x)\n",
        "plt.title(\"Finding best value for n_estimators\")\n",
        "plt.xlabel(\"n_estimators\")\n",
        "plt.ylabel(\"Accuracy\")\n",
        "plt.grid()\n",
        "plt.show()\n",
        "print('Highest value: ',acc.values.max())"
      ],
      "metadata": {
        "id": "-2RvcIr-9-EU"
      },
      "execution_count": null,
      "outputs": []
    },
    {
      "cell_type": "code",
      "source": [
        "from sklearn.neighbors import KNeighborsClassifier\n",
        "knn = KNeighborsClassifier(n_neighbors = 7, metric = 'minkowski', p = 2)\n",
        "knn.fit(X_train, y_train)"
      ],
      "metadata": {
        "id": "Pli_urN5_QHs"
      },
      "execution_count": null,
      "outputs": []
    },
    {
      "cell_type": "code",
      "source": [
        "from sklearn.svm import SVC\n",
        "svc = SVC(kernel= 'linear',random_state=42)\n",
        "svc.fit(X_train, y_train)"
      ],
      "metadata": {
        "id": "LVhpMaWE_fJn"
      },
      "execution_count": null,
      "outputs": []
    },
    {
      "cell_type": "code",
      "source": [
        "from sklearn.naive_bayes import GaussianNB\n",
        "nb= GaussianNB()\n",
        "nb.fit(X_train, y_train)"
      ],
      "metadata": {
        "id": "PymtkgG0_s0L"
      },
      "execution_count": null,
      "outputs": []
    },
    {
      "cell_type": "code",
      "source": [
        "from sklearn.tree import DecisionTreeClassifier\n",
        "dt= DecisionTreeClassifier(criterion='entropy',random_state=42)\n",
        "dt.fit(X_train, y_train)"
      ],
      "metadata": {
        "id": "Bl7FrOL__0h0"
      },
      "execution_count": null,
      "outputs": []
    },
    {
      "cell_type": "code",
      "source": [
        "from sklearn.linear_model import LogisticRegression\n",
        "lr=LogisticRegression(random_state=42)\n",
        "lr.fit(X_train, y_train)"
      ],
      "metadata": {
        "id": "1miqZfBeAJCF"
      },
      "execution_count": null,
      "outputs": []
    },
    {
      "cell_type": "code",
      "source": [
        "y_pred_lr = lr.predict(X_test)\n",
        "y_pred_knn=knn.predict(X_test)\n",
        "y_pred_svc=svc.predict(X_test)\n",
        "y_pred_nb=nb.predict(X_test)\n",
        "y_pred_dt=dt.predict(X_test)"
      ],
      "metadata": {
        "id": "23wv60UzAV8e"
      },
      "execution_count": null,
      "outputs": []
    },
    {
      "cell_type": "code",
      "source": [
        "from sklearn.metrics import accuracy_score\n",
        "accuracy_score(y_test, y_pred_lr)\n",
        "accuracy_score(y_test, y_pred_svc)\n",
        "accuracy_score(y_test, y_pred_knn)\n",
        "accuracy_score(y_test, y_pred_nb)\n",
        "accuracy_score(y_test, y_pred_dt)"
      ],
      "metadata": {
        "id": "v4cO8L0xAmGf"
      },
      "execution_count": null,
      "outputs": []
    },
    {
      "cell_type": "code",
      "source": [
        "print(f\"Logistic Regression Accuracy:{accuracy_score(y_test,y_pred_lr)}\")\n",
        "print(f\"SVM Accuracy:{accuracy_score(y_test,y_pred_svc)}\")\n",
        "print(f\"KNN Accuracy:{accuracy_score(y_test,y_pred_knn)}\")\n",
        "print(f\"Naive Bayes Regression Accuracy:{accuracy_score(y_test,y_pred_nb)}\")\n",
        "print(f\"Decision Trees Regression Accuracy:{accuracy_score(y_test,y_pred_dt)}\")"
      ],
      "metadata": {
        "id": "YSfeygY2A_4r"
      },
      "execution_count": null,
      "outputs": []
    },
    {
      "cell_type": "code",
      "source": [
        "from sklearn.metrics import confusion_matrix\n",
        "cm= confusion_matrix(y_test,y_pred_knn)\n",
        "cm"
      ],
      "metadata": {
        "id": "v6XZXmDpB93U"
      },
      "execution_count": null,
      "outputs": []
    },
    {
      "cell_type": "code",
      "source": [
        "sns.heatmap(pd.DataFrame(cm), annot=True)"
      ],
      "metadata": {
        "id": "djG6AV7MCH8K"
      },
      "execution_count": null,
      "outputs": []
    },
    {
      "cell_type": "code",
      "source": [
        "from sklearn.metrics import classification_report\n",
        "print(classification_report(y_test,y_pred_knn))"
      ],
      "metadata": {
        "id": "zgjsZGEtCUa6"
      },
      "execution_count": null,
      "outputs": []
    }
  ]
}