{
  "nbformat": 4,
  "nbformat_minor": 0,
  "metadata": {
    "colab": {
      "private_outputs": true,
      "provenance": []
    },
    "kernelspec": {
      "name": "python3",
      "display_name": "Python 3"
    },
    "language_info": {
      "name": "python"
    }
  },
  "cells": [
    {
      "cell_type": "code",
      "execution_count": null,
      "metadata": {
        "id": "QTL-tIwGLnaI"
      },
      "outputs": [],
      "source": [
        "import numpy as np\n",
        "import pandas as pd\n",
        "import difflib\n",
        "from sklearn.feature_extraction.text import TfidfVectorizer\n",
        "from sklearn.metrics.pairwise import cosine_similarity\n"
      ]
    },
    {
      "cell_type": "code",
      "source": [
        "df=pd.read_csv('movies.csv')"
      ],
      "metadata": {
        "id": "_0kU8OVGWxG-"
      },
      "execution_count": null,
      "outputs": []
    },
    {
      "cell_type": "code",
      "source": [
        "df.head()"
      ],
      "metadata": {
        "id": "sV8brAgVW2GN"
      },
      "execution_count": null,
      "outputs": []
    },
    {
      "cell_type": "code",
      "source": [
        "df.shape"
      ],
      "metadata": {
        "id": "jbGXOTeUW55y"
      },
      "execution_count": null,
      "outputs": []
    },
    {
      "cell_type": "code",
      "source": [
        "selected_features=['genres','keywords','tagline','cast','director']"
      ],
      "metadata": {
        "id": "jWMFNByqXJ2v"
      },
      "execution_count": null,
      "outputs": []
    },
    {
      "cell_type": "code",
      "source": [
        "selected_features"
      ],
      "metadata": {
        "id": "PUg6MLdaXbz3"
      },
      "execution_count": null,
      "outputs": []
    },
    {
      "cell_type": "code",
      "source": [
        "#replacing all the 5 selected features\n",
        "selected_features = [f for f in selected_features if f]  # Remove empty strings\n",
        "\n",
        "for feature in selected_features:\n",
        "    df[feature] = df[feature].fillna('')"
      ],
      "metadata": {
        "id": "9I7v6hbwXeSY"
      },
      "execution_count": null,
      "outputs": []
    },
    {
      "cell_type": "code",
      "source": [
        "#combining the relevant features\n",
        "combined_features=df['genres']+' '+df['keywords']+' '+df['tagline']+' '+df['cast']+' '+df['director']"
      ],
      "metadata": {
        "id": "b-yK_VtnYJEz"
      },
      "execution_count": null,
      "outputs": []
    },
    {
      "cell_type": "code",
      "source": [
        "combined_features"
      ],
      "metadata": {
        "collapsed": true,
        "id": "qZhH3UG7u2RM"
      },
      "execution_count": null,
      "outputs": []
    },
    {
      "cell_type": "code",
      "source": [
        "#converting the text data into vectors\n",
        "vectorizer=TfidfVectorizer()"
      ],
      "metadata": {
        "id": "JJdi8Jsmu_zA"
      },
      "execution_count": null,
      "outputs": []
    },
    {
      "cell_type": "code",
      "source": [
        "feature_vectors=vectorizer.fit_transform(combined_features)"
      ],
      "metadata": {
        "id": "3Us3U5wtvmPX"
      },
      "execution_count": null,
      "outputs": []
    },
    {
      "cell_type": "code",
      "source": [
        "feature_vectors"
      ],
      "metadata": {
        "id": "rZApnx2Ov0qo"
      },
      "execution_count": null,
      "outputs": []
    },
    {
      "cell_type": "markdown",
      "source": [
        "cosine similarity confidence"
      ],
      "metadata": {
        "id": "F8Q66UOlv5az"
      }
    },
    {
      "cell_type": "code",
      "source": [
        "similarity=cosine_similarity(feature_vectors)"
      ],
      "metadata": {
        "id": "E3ucjeyVv3Wg"
      },
      "execution_count": null,
      "outputs": []
    },
    {
      "cell_type": "code",
      "source": [
        "similarity"
      ],
      "metadata": {
        "id": "xNUwi-SowFYO"
      },
      "execution_count": null,
      "outputs": []
    },
    {
      "cell_type": "code",
      "source": [
        "similarity.shape"
      ],
      "metadata": {
        "id": "mush-7MjwKbF"
      },
      "execution_count": null,
      "outputs": []
    },
    {
      "cell_type": "code",
      "source": [
        "#getting the movie from the user\n",
        "movie_name=input('enter the movie name that you want:')"
      ],
      "metadata": {
        "id": "PVWC-o90wR95"
      },
      "execution_count": null,
      "outputs": []
    },
    {
      "cell_type": "code",
      "source": [
        "#creating a list with all the movie names given in the dataset\n",
        "list_of_all_titles=df['title'].tolist()"
      ],
      "metadata": {
        "id": "Rtl7QRkGwrVW"
      },
      "execution_count": null,
      "outputs": []
    },
    {
      "cell_type": "code",
      "source": [
        "list_of_all_titles"
      ],
      "metadata": {
        "id": "0n6TAYfoxFt5"
      },
      "execution_count": null,
      "outputs": []
    },
    {
      "cell_type": "code",
      "source": [
        "#finding the close match for the movie\n",
        "find_close_match=difflib.get_close_matches(movie_name,list_of_all_titles)"
      ],
      "metadata": {
        "id": "6-DqewfNytjG"
      },
      "execution_count": null,
      "outputs": []
    },
    {
      "cell_type": "code",
      "source": [
        "find_close_match"
      ],
      "metadata": {
        "id": "TS3PCMQezBIv"
      },
      "execution_count": null,
      "outputs": []
    },
    {
      "cell_type": "code",
      "source": [
        "close_match=find_close_match[0]"
      ],
      "metadata": {
        "id": "KcR7yC-rzJKQ"
      },
      "execution_count": null,
      "outputs": []
    },
    {
      "cell_type": "code",
      "source": [
        "close_match"
      ],
      "metadata": {
        "id": "603iaIQozNte"
      },
      "execution_count": null,
      "outputs": []
    },
    {
      "cell_type": "code",
      "source": [
        "#index of the movie\n",
        "index_of_the_movie=df[df.title==close_match]['index'].values[0]"
      ],
      "metadata": {
        "id": "0-PfPdxpzW1t"
      },
      "execution_count": null,
      "outputs": []
    },
    {
      "cell_type": "code",
      "source": [
        "index_of_the_movie"
      ],
      "metadata": {
        "id": "HWIF3w5Rzial"
      },
      "execution_count": null,
      "outputs": []
    },
    {
      "cell_type": "code",
      "source": [
        "#getting a list of similar movie\n",
        "similarity_score=list(enumerate(similarity[index_of_the_movie]))"
      ],
      "metadata": {
        "id": "ncJQMzIbzvhk"
      },
      "execution_count": null,
      "outputs": []
    },
    {
      "cell_type": "code",
      "source": [
        "similarity_score"
      ],
      "metadata": {
        "id": "shqER52p0B2t"
      },
      "execution_count": null,
      "outputs": []
    },
    {
      "cell_type": "code",
      "source": [
        "#sort the movies based on score\n",
        "sorted_similar_movies=sorted(similarity_score,key=lambda x:x[1],reverse=True)"
      ],
      "metadata": {
        "id": "Hg5iETai0VbX"
      },
      "execution_count": null,
      "outputs": []
    },
    {
      "cell_type": "code",
      "source": [
        "sorted_similar_movies"
      ],
      "metadata": {
        "collapsed": true,
        "id": "QWbgY5bq0hHn"
      },
      "execution_count": null,
      "outputs": []
    },
    {
      "cell_type": "code",
      "source": [
        "#print the similar movies name based on index\n",
        "print('movies suggested for you:\\n')\n",
        "i=1\n",
        "for movie in sorted_similar_movies:\n",
        "    index=movie[0]\n",
        "    title_from_index=df[df.index==index]['title'].values[0]\n",
        "    if(i<30):\n",
        "        print(i,',',title_from_index)\n",
        "        i+=1"
      ],
      "metadata": {
        "id": "w3N7u6Mk0nQV"
      },
      "execution_count": null,
      "outputs": []
    },
    {
      "cell_type": "code",
      "source": [
        "movie_name=input('enter the movie name that you want:')\n",
        "list_of_all_titles=df['title'].tolist()\n",
        "find_close_match=difflib.get_close_matches(movie_name,list_of_all_titles)\n",
        "close_match=find_close_match[0]\n",
        "index_of_the_movie=df[df.title==close_match]['index'].values[0]\n",
        "similarity_score=list(enumerate(similarity[index_of_the_movie]))\n",
        "sorted_similar_movies=sorted(similarity_score,key=lambda x:x[1],reverse=True)\n",
        "\n",
        "print('movies suggested for you:\\n')\n",
        "i=1\n",
        "for movie in sorted_similar_movies:\n",
        "    index=movie[0]\n",
        "    title_from_index=df[df.index==index]['title'].values[0]\n",
        "    if(i<30):\n",
        "        print(i,',',title_from_index)\n",
        "        i+=1"
      ],
      "metadata": {
        "id": "jzkkTUuH2Tfd"
      },
      "execution_count": null,
      "outputs": []
    }
  ]
}